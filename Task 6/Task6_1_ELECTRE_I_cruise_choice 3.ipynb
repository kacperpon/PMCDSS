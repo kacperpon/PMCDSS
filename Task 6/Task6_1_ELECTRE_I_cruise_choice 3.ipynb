{
  "cells": [
    {
      "cell_type": "markdown",
      "id": "tyqWQvlP687j",
      "metadata": {
        "id": "tyqWQvlP687j"
      },
      "source": [
        "# Task 6.1: ELECTRE for choice problems\n",
        "\n",
        "This notebook is prepared to practise with the model of outranking in MCDA. The method used is ELECTRE-I for choice (based on kernel). Deliver the report in the virtual campus."
      ]
    },
    {
      "cell_type": "markdown",
      "id": "5489b022-5249-4575-b6d4-e6a667d8cfb3",
      "metadata": {
        "id": "5489b022-5249-4575-b6d4-e6a667d8cfb3"
      },
      "source": [
        "This exercise is about choosing a cruise for our next holidays.\n",
        "\n"
      ]
    },
    {
      "cell_type": "code",
      "execution_count": 21,
      "id": "b9414464-7407-4f2e-8bb3-f00f4a8eb8e2",
      "metadata": {
        "id": "b9414464-7407-4f2e-8bb3-f00f4a8eb8e2",
        "tags": []
      },
      "outputs": [
        {
          "name": "stderr",
          "output_type": "stream",
          "text": [
            "/Library/Frameworks/Python.framework/Versions/3.12/lib/python3.12/pty.py:95: DeprecationWarning: This process (pid=69114) is multi-threaded, use of forkpty() may lead to deadlocks in the child.\n",
            "  pid, fd = os.forkpty()\n"
          ]
        },
        {
          "name": "stdout",
          "output_type": "stream",
          "text": [
            "Collecting mcda==0.4.1\n",
            "  Using cached mcda-0.4.1-py3-none-any.whl.metadata (2.0 kB)\n",
            "Requirement already satisfied: numpy in /Users/Kacpe/Desktop/College Work/Repos/Semester 2/PMCDSS/PMCDSS/venv/lib/python3.12/site-packages (from mcda==0.4.1) (2.2.3)\n",
            "Requirement already satisfied: matplotlib in /Users/Kacpe/Desktop/College Work/Repos/Semester 2/PMCDSS/PMCDSS/venv/lib/python3.12/site-packages (from mcda==0.4.1) (3.10.1)\n",
            "Requirement already satisfied: pulp in /Users/Kacpe/Desktop/College Work/Repos/Semester 2/PMCDSS/PMCDSS/venv/lib/python3.12/site-packages (from mcda==0.4.1) (3.0.2)\n",
            "Requirement already satisfied: graphviz in /Users/Kacpe/Desktop/College Work/Repos/Semester 2/PMCDSS/PMCDSS/venv/lib/python3.12/site-packages (from mcda==0.4.1) (0.20.3)\n",
            "Requirement already satisfied: scikit-learn in /Users/Kacpe/Desktop/College Work/Repos/Semester 2/PMCDSS/PMCDSS/venv/lib/python3.12/site-packages (from mcda==0.4.1) (1.6.1)\n",
            "Requirement already satisfied: pandas in /Users/Kacpe/Desktop/College Work/Repos/Semester 2/PMCDSS/PMCDSS/venv/lib/python3.12/site-packages (from mcda==0.4.1) (2.2.3)\n",
            "Requirement already satisfied: Deprecated in /Users/Kacpe/Desktop/College Work/Repos/Semester 2/PMCDSS/PMCDSS/venv/lib/python3.12/site-packages (from mcda==0.4.1) (1.2.18)\n",
            "Requirement already satisfied: wrapt<2,>=1.10 in /Users/Kacpe/Desktop/College Work/Repos/Semester 2/PMCDSS/PMCDSS/venv/lib/python3.12/site-packages (from Deprecated->mcda==0.4.1) (1.17.2)\n",
            "Requirement already satisfied: contourpy>=1.0.1 in /Users/Kacpe/Desktop/College Work/Repos/Semester 2/PMCDSS/PMCDSS/venv/lib/python3.12/site-packages (from matplotlib->mcda==0.4.1) (1.3.1)\n",
            "Requirement already satisfied: cycler>=0.10 in /Users/Kacpe/Desktop/College Work/Repos/Semester 2/PMCDSS/PMCDSS/venv/lib/python3.12/site-packages (from matplotlib->mcda==0.4.1) (0.12.1)\n",
            "Requirement already satisfied: fonttools>=4.22.0 in /Users/Kacpe/Desktop/College Work/Repos/Semester 2/PMCDSS/PMCDSS/venv/lib/python3.12/site-packages (from matplotlib->mcda==0.4.1) (4.56.0)\n",
            "Requirement already satisfied: kiwisolver>=1.3.1 in /Users/Kacpe/Desktop/College Work/Repos/Semester 2/PMCDSS/PMCDSS/venv/lib/python3.12/site-packages (from matplotlib->mcda==0.4.1) (1.4.8)\n",
            "Requirement already satisfied: packaging>=20.0 in /Users/Kacpe/Desktop/College Work/Repos/Semester 2/PMCDSS/PMCDSS/venv/lib/python3.12/site-packages (from matplotlib->mcda==0.4.1) (24.2)\n",
            "Requirement already satisfied: pillow>=8 in /Users/Kacpe/Desktop/College Work/Repos/Semester 2/PMCDSS/PMCDSS/venv/lib/python3.12/site-packages (from matplotlib->mcda==0.4.1) (11.1.0)\n",
            "Requirement already satisfied: pyparsing>=2.3.1 in /Users/Kacpe/Desktop/College Work/Repos/Semester 2/PMCDSS/PMCDSS/venv/lib/python3.12/site-packages (from matplotlib->mcda==0.4.1) (3.2.1)\n",
            "Requirement already satisfied: python-dateutil>=2.7 in /Users/Kacpe/Desktop/College Work/Repos/Semester 2/PMCDSS/PMCDSS/venv/lib/python3.12/site-packages (from matplotlib->mcda==0.4.1) (2.9.0.post0)\n",
            "Requirement already satisfied: pytz>=2020.1 in /Users/Kacpe/Desktop/College Work/Repos/Semester 2/PMCDSS/PMCDSS/venv/lib/python3.12/site-packages (from pandas->mcda==0.4.1) (2025.1)\n",
            "Requirement already satisfied: tzdata>=2022.7 in /Users/Kacpe/Desktop/College Work/Repos/Semester 2/PMCDSS/PMCDSS/venv/lib/python3.12/site-packages (from pandas->mcda==0.4.1) (2025.1)\n",
            "Requirement already satisfied: scipy>=1.6.0 in /Users/Kacpe/Desktop/College Work/Repos/Semester 2/PMCDSS/PMCDSS/venv/lib/python3.12/site-packages (from scikit-learn->mcda==0.4.1) (1.15.2)\n",
            "Requirement already satisfied: joblib>=1.2.0 in /Users/Kacpe/Desktop/College Work/Repos/Semester 2/PMCDSS/PMCDSS/venv/lib/python3.12/site-packages (from scikit-learn->mcda==0.4.1) (1.4.2)\n",
            "Requirement already satisfied: threadpoolctl>=3.1.0 in /Users/Kacpe/Desktop/College Work/Repos/Semester 2/PMCDSS/PMCDSS/venv/lib/python3.12/site-packages (from scikit-learn->mcda==0.4.1) (3.5.0)\n",
            "Requirement already satisfied: six>=1.5 in /Users/Kacpe/Desktop/College Work/Repos/Semester 2/PMCDSS/PMCDSS/venv/lib/python3.12/site-packages (from python-dateutil>=2.7->matplotlib->mcda==0.4.1) (1.17.0)\n",
            "Using cached mcda-0.4.1-py3-none-any.whl (58 kB)\n",
            "Installing collected packages: mcda\n",
            "  Attempting uninstall: mcda\n",
            "    Found existing installation: mcda 0.4.0\n",
            "    Uninstalling mcda-0.4.0:\n",
            "      Successfully uninstalled mcda-0.4.0\n",
            "Successfully installed mcda-0.4.1\n",
            "\n",
            "\u001b[1m[\u001b[0m\u001b[34;49mnotice\u001b[0m\u001b[1;39;49m]\u001b[0m\u001b[39;49m A new release of pip is available: \u001b[0m\u001b[31;49m24.3.1\u001b[0m\u001b[39;49m -> \u001b[0m\u001b[32;49m25.0.1\u001b[0m\n",
            "\u001b[1m[\u001b[0m\u001b[34;49mnotice\u001b[0m\u001b[1;39;49m]\u001b[0m\u001b[39;49m To update, run: \u001b[0m\u001b[32;49mpip install --upgrade pip\u001b[0m\n",
            "Note: you may need to restart the kernel to use updated packages.\n"
          ]
        }
      ],
      "source": [
        "%pip install mcda==0.4.1"
      ]
    },
    {
      "cell_type": "code",
      "execution_count": 13,
      "id": "cd727525-509e-4236-abe8-d7b610cd4a9a",
      "metadata": {
        "id": "cd727525-509e-4236-abe8-d7b610cd4a9a",
        "tags": []
      },
      "outputs": [],
      "source": [
        "from mcda.core.performance_table import *\n",
        "from mcda.core.scales import *\n",
        "from mcda.plot import *\n",
        "from mcda.core.matrices import AdjacencyMatrix\n",
        "from mcda.outranking.electre import *"
      ]
    },
    {
      "cell_type": "markdown",
      "id": "yyddIcd864o8",
      "metadata": {
        "id": "yyddIcd864o8"
      },
      "source": [
        "Criteria: Capacity (number of people), Company (rating of quality), Facilities (number of additional services), Duration (days of the cruise) and Reviews (averages score of user's ratings).\n",
        "\n",
        "The alternatives are:\n",
        "\n",
        "*   Id0: MED- Cruise on the Mediterranean\n",
        "*   Id1 : BALT - Cruise on Baltic Sea\n",
        "*   Id2 : CARIB - Cruise at the Caribean coast\n",
        "*   Id3 : GRE - Cruise in the Greek islands\n",
        "*   Id4 : NIL - Cruise in the Nile river\n",
        "*   Id5 : DAN - Cruise in the Danube river\n",
        "\n",
        "Q1. Data is defined below. Weights indicate the relative importance of each criterion in the concordance calculation. What can you say about the weights with respect to the interests of the user?\n"
      ]
    },
    {
      "cell_type": "markdown",
      "id": "N9NXjetM_b6j",
      "metadata": {
        "id": "N9NXjetM_b6j"
      },
      "source": [
        "In this implementation of ELECTRE-I, it is required to define the scale of each criterion. There are quantitative (numerical) and qualitative (categorical) scales. This example uses only quantitative values. For each scale you must indicate the minimum possible value, the maximum one and the preference direction (MAX or MIN). A vector with the scales is needed as parameter in the ELECTRE functions.\n"
      ]
    },
    {
      "cell_type": "code",
      "execution_count": 14,
      "id": "9c46e499-41f8-49af-9b2e-cfe7f21a8fde",
      "metadata": {
        "id": "9c46e499-41f8-49af-9b2e-cfe7f21a8fde",
        "tags": []
      },
      "outputs": [],
      "source": [
        "scales = {\n",
        "    \"Capacity\": QuantitativeScale(200, 1500, PreferenceDirection.MAX),\n",
        "    \"Company\": QuantitativeScale(1, 10, PreferenceDirection.MAX),\n",
        "    \"Facilities\": QuantitativeScale(1, 5, PreferenceDirection.MAX),\n",
        "    \"Duration\": QuantitativeScale(5, 20, PreferenceDirection.MAX),\n",
        "    \"Reviews\": QuantitativeScale(1, 10, PreferenceDirection.MAX)\n",
        "}"
      ]
    },
    {
      "cell_type": "code",
      "execution_count": 15,
      "id": "NdRpdOiUlsk6",
      "metadata": {
        "id": "NdRpdOiUlsk6",
        "tags": []
      },
      "outputs": [
        {
          "data": {
            "text/html": [
              "<div>\n",
              "<style scoped>\n",
              "    .dataframe tbody tr th:only-of-type {\n",
              "        vertical-align: middle;\n",
              "    }\n",
              "\n",
              "    .dataframe tbody tr th {\n",
              "        vertical-align: top;\n",
              "    }\n",
              "\n",
              "    .dataframe thead th {\n",
              "        text-align: right;\n",
              "    }\n",
              "</style>\n",
              "<table border=\"1\" class=\"dataframe\">\n",
              "  <thead>\n",
              "    <tr style=\"text-align: right;\">\n",
              "      <th></th>\n",
              "      <th>Capacity</th>\n",
              "      <th>Company</th>\n",
              "      <th>Facilities</th>\n",
              "      <th>Duration</th>\n",
              "      <th>Reviews</th>\n",
              "    </tr>\n",
              "  </thead>\n",
              "  <tbody>\n",
              "    <tr>\n",
              "      <th>0.MED</th>\n",
              "      <td>900</td>\n",
              "      <td>8</td>\n",
              "      <td>5</td>\n",
              "      <td>5</td>\n",
              "      <td>3</td>\n",
              "    </tr>\n",
              "    <tr>\n",
              "      <th>1.BALT</th>\n",
              "      <td>1200</td>\n",
              "      <td>9</td>\n",
              "      <td>4</td>\n",
              "      <td>10</td>\n",
              "      <td>5</td>\n",
              "    </tr>\n",
              "    <tr>\n",
              "      <th>2.CARIB</th>\n",
              "      <td>400</td>\n",
              "      <td>7</td>\n",
              "      <td>3</td>\n",
              "      <td>14</td>\n",
              "      <td>7</td>\n",
              "    </tr>\n",
              "    <tr>\n",
              "      <th>3.GRE</th>\n",
              "      <td>1000</td>\n",
              "      <td>4</td>\n",
              "      <td>2</td>\n",
              "      <td>15</td>\n",
              "      <td>9</td>\n",
              "    </tr>\n",
              "    <tr>\n",
              "      <th>4.NIL</th>\n",
              "      <td>700</td>\n",
              "      <td>2</td>\n",
              "      <td>5</td>\n",
              "      <td>8</td>\n",
              "      <td>9</td>\n",
              "    </tr>\n",
              "    <tr>\n",
              "      <th>5.DAN</th>\n",
              "      <td>1400</td>\n",
              "      <td>7</td>\n",
              "      <td>3</td>\n",
              "      <td>14</td>\n",
              "      <td>6</td>\n",
              "    </tr>\n",
              "  </tbody>\n",
              "</table>\n",
              "</div>"
            ],
            "text/plain": [
              "         Capacity  Company  Facilities  Duration  Reviews\n",
              "0.MED         900        8           5         5        3\n",
              "1.BALT       1200        9           4        10        5\n",
              "2.CARIB       400        7           3        14        7\n",
              "3.GRE        1000        4           2        15        9\n",
              "4.NIL         700        2           5         8        9\n",
              "5.DAN        1400        7           3        14        6"
            ]
          },
          "execution_count": 15,
          "metadata": {},
          "output_type": "execute_result"
        }
      ],
      "source": [
        "alternatives = [\"0.MED\", \"1.BALT\", \"2.CARIB\", \"3.GRE\", \"4.NIL\", \"5.DAN\"]\n",
        "criteria = {\n",
        "    \"Capacity\": 0.2,\n",
        "    \"Company\": 0.2,\n",
        "    \"Facilities\": 0.1,\n",
        "    \"Duration\": 0.3,\n",
        "    \"Reviews\": 0.2\n",
        "    }\n",
        "\n",
        "performance_table = PerformanceTable(\n",
        "                    [[900, 8, 5, 5, 3],\n",
        "                     [1200, 9, 4, 10, 5],\n",
        "                     [400, 7, 3, 14, 7],\n",
        "                     [1000, 4, 2, 15, 9],\n",
        "                     [700, 2, 5, 8, 9],\n",
        "                     [1400, 7, 3, 14, 6]],\n",
        "                     alternatives = alternatives,\n",
        "                     criteria = criteria,\n",
        "                     scales = scales)\n",
        "\n",
        "performance_table.df"
      ]
    },
    {
      "cell_type": "markdown",
      "id": "capusQcBAqnj",
      "metadata": {
        "id": "capusQcBAqnj"
      },
      "source": [
        "Q2. The ELECTRE-1 uses binary concordance for each criterion and then applies the weights.\n",
        "Reproduce manually the concordance between MED and BALT. (Corrected)"
      ]
    },
    {
      "cell_type": "code",
      "execution_count": 17,
      "id": "1cb09048-4f70-4263-a832-e2cd16630c9f",
      "metadata": {
        "id": "1cb09048-4f70-4263-a832-e2cd16630c9f",
        "tags": []
      },
      "outputs": [
        {
          "data": {
            "text/html": [
              "<div>\n",
              "<style scoped>\n",
              "    .dataframe tbody tr th:only-of-type {\n",
              "        vertical-align: middle;\n",
              "    }\n",
              "\n",
              "    .dataframe tbody tr th {\n",
              "        vertical-align: top;\n",
              "    }\n",
              "\n",
              "    .dataframe thead th {\n",
              "        text-align: right;\n",
              "    }\n",
              "</style>\n",
              "<table border=\"1\" class=\"dataframe\">\n",
              "  <thead>\n",
              "    <tr style=\"text-align: right;\">\n",
              "      <th></th>\n",
              "      <th>0.MED</th>\n",
              "      <th>1.BALT</th>\n",
              "      <th>2.CARIB</th>\n",
              "      <th>3.GRE</th>\n",
              "      <th>4.NIL</th>\n",
              "      <th>5.DAN</th>\n",
              "    </tr>\n",
              "  </thead>\n",
              "  <tbody>\n",
              "    <tr>\n",
              "      <th>0.MED</th>\n",
              "      <td>1.0</td>\n",
              "      <td>0.1</td>\n",
              "      <td>0.5</td>\n",
              "      <td>0.3</td>\n",
              "      <td>0.5</td>\n",
              "      <td>0.3</td>\n",
              "    </tr>\n",
              "    <tr>\n",
              "      <th>1.BALT</th>\n",
              "      <td>0.9</td>\n",
              "      <td>1.0</td>\n",
              "      <td>0.5</td>\n",
              "      <td>0.5</td>\n",
              "      <td>0.7</td>\n",
              "      <td>0.3</td>\n",
              "    </tr>\n",
              "    <tr>\n",
              "      <th>2.CARIB</th>\n",
              "      <td>0.5</td>\n",
              "      <td>0.5</td>\n",
              "      <td>1.0</td>\n",
              "      <td>0.3</td>\n",
              "      <td>0.5</td>\n",
              "      <td>0.8</td>\n",
              "    </tr>\n",
              "    <tr>\n",
              "      <th>3.GRE</th>\n",
              "      <td>0.7</td>\n",
              "      <td>0.5</td>\n",
              "      <td>0.7</td>\n",
              "      <td>1.0</td>\n",
              "      <td>0.9</td>\n",
              "      <td>0.5</td>\n",
              "    </tr>\n",
              "    <tr>\n",
              "      <th>4.NIL</th>\n",
              "      <td>0.6</td>\n",
              "      <td>0.3</td>\n",
              "      <td>0.5</td>\n",
              "      <td>0.3</td>\n",
              "      <td>1.0</td>\n",
              "      <td>0.3</td>\n",
              "    </tr>\n",
              "    <tr>\n",
              "      <th>5.DAN</th>\n",
              "      <td>0.7</td>\n",
              "      <td>0.7</td>\n",
              "      <td>0.8</td>\n",
              "      <td>0.5</td>\n",
              "      <td>0.7</td>\n",
              "      <td>1.0</td>\n",
              "    </tr>\n",
              "  </tbody>\n",
              "</table>\n",
              "</div>"
            ],
            "text/plain": [
              "         0.MED  1.BALT  2.CARIB  3.GRE  4.NIL  5.DAN\n",
              "0.MED      1.0     0.1      0.5    0.3    0.5    0.3\n",
              "1.BALT     0.9     1.0      0.5    0.5    0.7    0.3\n",
              "2.CARIB    0.5     0.5      1.0    0.3    0.5    0.8\n",
              "3.GRE      0.7     0.5      0.7    1.0    0.9    0.5\n",
              "4.NIL      0.6     0.3      0.5    0.3    1.0    0.3\n",
              "5.DAN      0.7     0.7      0.8    0.5    0.7    1.0"
            ]
          },
          "metadata": {},
          "output_type": "display_data"
        },
        {
          "data": {
            "image/svg+xml": [
              "<?xml version=\"1.0\" encoding=\"UTF-8\" standalone=\"no\"?>\n",
              "<!DOCTYPE svg PUBLIC \"-//W3C//DTD SVG 1.1//EN\"\n",
              " \"http://www.w3.org/Graphics/SVG/1.1/DTD/svg11.dtd\">\n",
              "<!-- Generated by graphviz version 12.2.1 (20241206.2353)\n",
              " -->\n",
              "<!-- Title: graph Pages: 1 -->\n",
              "<svg width=\"183pt\" height=\"404pt\"\n",
              " viewBox=\"0.00 0.00 183.00 404.00\" xmlns=\"http://www.w3.org/2000/svg\" xmlns:xlink=\"http://www.w3.org/1999/xlink\">\n",
              "<g id=\"graph0\" class=\"graph\" transform=\"scale(1 1) rotate(0) translate(4 400)\">\n",
              "<title>graph</title>\n",
              "<polygon fill=\"white\" stroke=\"none\" points=\"-4,4 -4,-400 179,-400 179,4 -4,4\"/>\n",
              "<!-- 0.MED -->\n",
              "<g id=\"node1\" class=\"node\">\n",
              "<title>0.MED</title>\n",
              "<polygon fill=\"none\" stroke=\"black\" points=\"85.62,-36 28.38,-36 28.38,0 85.62,0 85.62,-36\"/>\n",
              "<text text-anchor=\"middle\" x=\"57\" y=\"-12.95\" font-family=\"Times,serif\" font-size=\"14.00\">0.MED</text>\n",
              "</g>\n",
              "<!-- 1.BALT -->\n",
              "<g id=\"node2\" class=\"node\">\n",
              "<title>1.BALT</title>\n",
              "<polygon fill=\"none\" stroke=\"black\" points=\"127.88,-180 66.12,-180 66.12,-144 127.88,-144 127.88,-180\"/>\n",
              "<text text-anchor=\"middle\" x=\"97\" y=\"-156.95\" font-family=\"Times,serif\" font-size=\"14.00\">1.BALT</text>\n",
              "</g>\n",
              "<!-- 1.BALT&#45;&gt;0.MED -->\n",
              "<g id=\"edge1\" class=\"edge\">\n",
              "<title>1.BALT&#45;&gt;0.MED</title>\n",
              "<path fill=\"none\" stroke=\"black\" d=\"M92.1,-143.59C85.31,-119.5 72.99,-75.75 64.9,-47.03\"/>\n",
              "<polygon fill=\"black\" stroke=\"black\" points=\"68.31,-46.24 62.23,-37.57 61.57,-48.14 68.31,-46.24\"/>\n",
              "</g>\n",
              "<!-- 4.NIL -->\n",
              "<g id=\"node5\" class=\"node\">\n",
              "<title>4.NIL</title>\n",
              "<polygon fill=\"none\" stroke=\"black\" points=\"175,-108 121,-108 121,-72 175,-72 175,-108\"/>\n",
              "<text text-anchor=\"middle\" x=\"148\" y=\"-84.95\" font-family=\"Times,serif\" font-size=\"14.00\">4.NIL</text>\n",
              "</g>\n",
              "<!-- 1.BALT&#45;&gt;4.NIL -->\n",
              "<g id=\"edge2\" class=\"edge\">\n",
              "<title>1.BALT&#45;&gt;4.NIL</title>\n",
              "<path fill=\"none\" stroke=\"black\" d=\"M109.61,-143.7C115.41,-135.73 122.43,-126.1 128.86,-117.26\"/>\n",
              "<polygon fill=\"black\" stroke=\"black\" points=\"131.59,-119.47 134.65,-109.33 125.93,-115.35 131.59,-119.47\"/>\n",
              "</g>\n",
              "<!-- 2.CARIB -->\n",
              "<g id=\"node3\" class=\"node\">\n",
              "<title>2.CARIB</title>\n",
              "<polygon fill=\"none\" stroke=\"black\" points=\"130.88,-324 63.12,-324 63.12,-288 130.88,-288 130.88,-324\"/>\n",
              "<text text-anchor=\"middle\" x=\"97\" y=\"-300.95\" font-family=\"Times,serif\" font-size=\"14.00\">2.CARIB</text>\n",
              "</g>\n",
              "<!-- 5.DAN -->\n",
              "<g id=\"node6\" class=\"node\">\n",
              "<title>5.DAN</title>\n",
              "<polygon fill=\"none\" stroke=\"black\" points=\"124.88,-252 69.12,-252 69.12,-216 124.88,-216 124.88,-252\"/>\n",
              "<text text-anchor=\"middle\" x=\"97\" y=\"-228.95\" font-family=\"Times,serif\" font-size=\"14.00\">5.DAN</text>\n",
              "</g>\n",
              "<!-- 2.CARIB&#45;&gt;5.DAN -->\n",
              "<g id=\"edge3\" class=\"edge\">\n",
              "<title>2.CARIB&#45;&gt;5.DAN</title>\n",
              "<path fill=\"none\" stroke=\"black\" d=\"M91.08,-287.7C90.33,-280.41 90.09,-271.73 90.35,-263.54\"/>\n",
              "<polygon fill=\"black\" stroke=\"black\" points=\"93.84,-263.82 91.01,-253.61 86.86,-263.36 93.84,-263.82\"/>\n",
              "</g>\n",
              "<!-- 3.GRE -->\n",
              "<g id=\"node4\" class=\"node\">\n",
              "<title>3.GRE</title>\n",
              "<polygon fill=\"none\" stroke=\"black\" points=\"124,-396 70,-396 70,-360 124,-360 124,-396\"/>\n",
              "<text text-anchor=\"middle\" x=\"97\" y=\"-372.95\" font-family=\"Times,serif\" font-size=\"14.00\">3.GRE</text>\n",
              "</g>\n",
              "<!-- 3.GRE&#45;&gt;0.MED -->\n",
              "<g id=\"edge4\" class=\"edge\">\n",
              "<title>3.GRE&#45;&gt;0.MED</title>\n",
              "<path fill=\"none\" stroke=\"black\" d=\"M74.99,-359.88C46.37,-335.5 0,-287.84 0,-235 0,-235 0,-235 0,-161 0,-118.6 22.16,-73.87 38.84,-46.2\"/>\n",
              "<polygon fill=\"black\" stroke=\"black\" points=\"41.79,-48.09 44.11,-37.76 35.85,-44.39 41.79,-48.09\"/>\n",
              "</g>\n",
              "<!-- 3.GRE&#45;&gt;2.CARIB -->\n",
              "<g id=\"edge5\" class=\"edge\">\n",
              "<title>3.GRE&#45;&gt;2.CARIB</title>\n",
              "<path fill=\"none\" stroke=\"black\" d=\"M97,-359.7C97,-352.41 97,-343.73 97,-335.54\"/>\n",
              "<polygon fill=\"black\" stroke=\"black\" points=\"100.5,-335.62 97,-325.62 93.5,-335.62 100.5,-335.62\"/>\n",
              "</g>\n",
              "<!-- 3.GRE&#45;&gt;4.NIL -->\n",
              "<g id=\"edge6\" class=\"edge\">\n",
              "<title>3.GRE&#45;&gt;4.NIL</title>\n",
              "<path fill=\"none\" stroke=\"black\" d=\"M115.46,-359.62C124.44,-350.02 134.47,-337.36 140,-324 168.52,-255.15 160.15,-164.81 153.21,-119.51\"/>\n",
              "<polygon fill=\"black\" stroke=\"black\" points=\"156.68,-119.03 151.61,-109.73 149.77,-120.16 156.68,-119.03\"/>\n",
              "</g>\n",
              "<!-- 4.NIL&#45;&gt;0.MED -->\n",
              "<g id=\"edge7\" class=\"edge\">\n",
              "<title>4.NIL&#45;&gt;0.MED</title>\n",
              "<path fill=\"none\" stroke=\"black\" d=\"M125.51,-71.7C114.35,-63.11 100.69,-52.61 88.51,-43.24\"/>\n",
              "<polygon fill=\"black\" stroke=\"black\" points=\"90.81,-40.59 80.75,-37.27 86.54,-46.14 90.81,-40.59\"/>\n",
              "</g>\n",
              "<!-- 5.DAN&#45;&gt;0.MED -->\n",
              "<g id=\"edge8\" class=\"edge\">\n",
              "<title>5.DAN&#45;&gt;0.MED</title>\n",
              "<path fill=\"none\" stroke=\"black\" d=\"M79.27,-215.6C70.76,-206 61.47,-193.34 57,-180 42.13,-135.62 46.71,-80.42 51.66,-47.54\"/>\n",
              "<polygon fill=\"black\" stroke=\"black\" points=\"55.06,-48.42 53.22,-37.99 48.16,-47.3 55.06,-48.42\"/>\n",
              "</g>\n",
              "<!-- 5.DAN&#45;&gt;1.BALT -->\n",
              "<g id=\"edge9\" class=\"edge\">\n",
              "<title>5.DAN&#45;&gt;1.BALT</title>\n",
              "<path fill=\"none\" stroke=\"black\" d=\"M97,-215.7C97,-208.41 97,-199.73 97,-191.54\"/>\n",
              "<polygon fill=\"black\" stroke=\"black\" points=\"100.5,-191.62 97,-181.62 93.5,-191.62 100.5,-191.62\"/>\n",
              "</g>\n",
              "<!-- 5.DAN&#45;&gt;2.CARIB -->\n",
              "<g id=\"edge10\" class=\"edge\">\n",
              "<title>5.DAN&#45;&gt;2.CARIB</title>\n",
              "<path fill=\"none\" stroke=\"black\" d=\"M102.9,-252.1C103.66,-259.37 103.91,-268.04 103.65,-276.24\"/>\n",
              "<polygon fill=\"black\" stroke=\"black\" points=\"100.16,-275.98 103.01,-286.19 107.15,-276.43 100.16,-275.98\"/>\n",
              "</g>\n",
              "<!-- 5.DAN&#45;&gt;4.NIL -->\n",
              "<g id=\"edge11\" class=\"edge\">\n",
              "<title>5.DAN&#45;&gt;4.NIL</title>\n",
              "<path fill=\"none\" stroke=\"black\" d=\"M113.66,-215.83C122.08,-206.1 131.63,-193.25 137,-180 144.74,-160.89 147.41,-137.73 148.19,-119.83\"/>\n",
              "<polygon fill=\"black\" stroke=\"black\" points=\"151.69,-119.98 148.43,-109.9 144.69,-119.82 151.69,-119.98\"/>\n",
              "</g>\n",
              "</g>\n",
              "</svg>\n"
            ],
            "text/plain": [
              "<graphviz.graphs.Digraph at 0x11d62e8d0>"
            ]
          },
          "execution_count": 17,
          "metadata": {},
          "output_type": "execute_result"
        }
      ],
      "source": [
        "electre1 = Electre1(criteria_weights=criteria, c_hat=0.6, d_hat=0.4)\n",
        "concordance_matrix = electre1.concordance(performance_table)\n",
        "\n",
        "display(concordance_matrix)\n",
        "\n",
        "#Now we plot the graph of concordance with relations above the cut threshold\n",
        "cut_threshold = 0.6\n",
        "conc_mat_cut = concordance_matrix.where(concordance_matrix >= cut_threshold, other=0)\n",
        "AdjacencyMatrix(conc_mat_cut).plot()\n",
        "\n"
      ]
    },
    {
      "cell_type": "markdown",
      "id": "dGh7I7h9B8Yj",
      "metadata": {
        "id": "dGh7I7h9B8Yj"
      },
      "source": [
        "Q3. After the concordance, the method calculates the discordance in a boolean way too. In this implementation, the discordance is calculated as a proportion of the maximum difference between two values on each criterion. A negative value means no discordance at all. Find a case with maximum discordance and explain why it happens.\n",
        "\n"
      ]
    },
    {
      "cell_type": "code",
      "execution_count": 18,
      "id": "wvpuw4Frrtm5",
      "metadata": {
        "id": "wvpuw4Frrtm5",
        "tags": []
      },
      "outputs": [
        {
          "data": {
            "text/html": [
              "<div>\n",
              "<style scoped>\n",
              "    .dataframe tbody tr th:only-of-type {\n",
              "        vertical-align: middle;\n",
              "    }\n",
              "\n",
              "    .dataframe tbody tr th {\n",
              "        vertical-align: top;\n",
              "    }\n",
              "\n",
              "    .dataframe thead th {\n",
              "        text-align: right;\n",
              "    }\n",
              "</style>\n",
              "<table border=\"1\" class=\"dataframe\">\n",
              "  <thead>\n",
              "    <tr style=\"text-align: right;\">\n",
              "      <th></th>\n",
              "      <th>0.MED</th>\n",
              "      <th>1.BALT</th>\n",
              "      <th>2.CARIB</th>\n",
              "      <th>3.GRE</th>\n",
              "      <th>4.NIL</th>\n",
              "      <th>5.DAN</th>\n",
              "    </tr>\n",
              "  </thead>\n",
              "  <tbody>\n",
              "    <tr>\n",
              "      <th>0.MED</th>\n",
              "      <td>0.000</td>\n",
              "      <td>0.300</td>\n",
              "      <td>0.009</td>\n",
              "      <td>0.100</td>\n",
              "      <td>0.006</td>\n",
              "      <td>0.5</td>\n",
              "    </tr>\n",
              "    <tr>\n",
              "      <th>1.BALT</th>\n",
              "      <td>0.001</td>\n",
              "      <td>0.000</td>\n",
              "      <td>0.004</td>\n",
              "      <td>0.005</td>\n",
              "      <td>0.004</td>\n",
              "      <td>0.2</td>\n",
              "    </tr>\n",
              "    <tr>\n",
              "      <th>2.CARIB</th>\n",
              "      <td>0.500</td>\n",
              "      <td>0.800</td>\n",
              "      <td>0.000</td>\n",
              "      <td>0.600</td>\n",
              "      <td>0.300</td>\n",
              "      <td>1.0</td>\n",
              "    </tr>\n",
              "    <tr>\n",
              "      <th>3.GRE</th>\n",
              "      <td>0.004</td>\n",
              "      <td>0.200</td>\n",
              "      <td>0.003</td>\n",
              "      <td>0.000</td>\n",
              "      <td>0.003</td>\n",
              "      <td>0.4</td>\n",
              "    </tr>\n",
              "    <tr>\n",
              "      <th>4.NIL</th>\n",
              "      <td>0.200</td>\n",
              "      <td>0.500</td>\n",
              "      <td>0.006</td>\n",
              "      <td>0.300</td>\n",
              "      <td>0.000</td>\n",
              "      <td>0.7</td>\n",
              "    </tr>\n",
              "    <tr>\n",
              "      <th>5.DAN</th>\n",
              "      <td>0.002</td>\n",
              "      <td>0.002</td>\n",
              "      <td>0.001</td>\n",
              "      <td>0.003</td>\n",
              "      <td>0.003</td>\n",
              "      <td>0.0</td>\n",
              "    </tr>\n",
              "  </tbody>\n",
              "</table>\n",
              "</div>"
            ],
            "text/plain": [
              "         0.MED  1.BALT  2.CARIB  3.GRE  4.NIL  5.DAN\n",
              "0.MED    0.000   0.300    0.009  0.100  0.006    0.5\n",
              "1.BALT   0.001   0.000    0.004  0.005  0.004    0.2\n",
              "2.CARIB  0.500   0.800    0.000  0.600  0.300    1.0\n",
              "3.GRE    0.004   0.200    0.003  0.000  0.003    0.4\n",
              "4.NIL    0.200   0.500    0.006  0.300  0.000    0.7\n",
              "5.DAN    0.002   0.002    0.001  0.003  0.003    0.0"
            ]
          },
          "execution_count": 18,
          "metadata": {},
          "output_type": "execute_result"
        }
      ],
      "source": [
        "discordance_matrix = electre1.discordance(performance_table)\n",
        "discordance_matrix"
      ]
    },
    {
      "cell_type": "markdown",
      "id": "v09GMEH_CjxT",
      "metadata": {
        "id": "v09GMEH_CjxT"
      },
      "source": [
        "Next. The credibility step merges concordance with discordance using two thresholds. It is one if concordance is >= c_hat and discordance is <=d_hat.\n",
        "\n"
      ]
    },
    {
      "cell_type": "code",
      "execution_count": 19,
      "id": "tgpjIz9euMub",
      "metadata": {
        "id": "tgpjIz9euMub",
        "tags": []
      },
      "outputs": [
        {
          "data": {
            "text/html": [
              "<div>\n",
              "<style scoped>\n",
              "    .dataframe tbody tr th:only-of-type {\n",
              "        vertical-align: middle;\n",
              "    }\n",
              "\n",
              "    .dataframe tbody tr th {\n",
              "        vertical-align: top;\n",
              "    }\n",
              "\n",
              "    .dataframe thead th {\n",
              "        text-align: right;\n",
              "    }\n",
              "</style>\n",
              "<table border=\"1\" class=\"dataframe\">\n",
              "  <thead>\n",
              "    <tr style=\"text-align: right;\">\n",
              "      <th></th>\n",
              "      <th>0.MED</th>\n",
              "      <th>1.BALT</th>\n",
              "      <th>2.CARIB</th>\n",
              "      <th>3.GRE</th>\n",
              "      <th>4.NIL</th>\n",
              "      <th>5.DAN</th>\n",
              "    </tr>\n",
              "  </thead>\n",
              "  <tbody>\n",
              "    <tr>\n",
              "      <th>0.MED</th>\n",
              "      <td>1.0</td>\n",
              "      <td>0.0</td>\n",
              "      <td>0.0</td>\n",
              "      <td>0.0</td>\n",
              "      <td>0.0</td>\n",
              "      <td>0.0</td>\n",
              "    </tr>\n",
              "    <tr>\n",
              "      <th>1.BALT</th>\n",
              "      <td>1.0</td>\n",
              "      <td>1.0</td>\n",
              "      <td>0.0</td>\n",
              "      <td>0.0</td>\n",
              "      <td>1.0</td>\n",
              "      <td>0.0</td>\n",
              "    </tr>\n",
              "    <tr>\n",
              "      <th>2.CARIB</th>\n",
              "      <td>0.0</td>\n",
              "      <td>0.0</td>\n",
              "      <td>1.0</td>\n",
              "      <td>0.0</td>\n",
              "      <td>0.0</td>\n",
              "      <td>0.0</td>\n",
              "    </tr>\n",
              "    <tr>\n",
              "      <th>3.GRE</th>\n",
              "      <td>1.0</td>\n",
              "      <td>0.0</td>\n",
              "      <td>1.0</td>\n",
              "      <td>1.0</td>\n",
              "      <td>1.0</td>\n",
              "      <td>0.0</td>\n",
              "    </tr>\n",
              "    <tr>\n",
              "      <th>4.NIL</th>\n",
              "      <td>1.0</td>\n",
              "      <td>0.0</td>\n",
              "      <td>0.0</td>\n",
              "      <td>0.0</td>\n",
              "      <td>1.0</td>\n",
              "      <td>0.0</td>\n",
              "    </tr>\n",
              "    <tr>\n",
              "      <th>5.DAN</th>\n",
              "      <td>1.0</td>\n",
              "      <td>1.0</td>\n",
              "      <td>1.0</td>\n",
              "      <td>0.0</td>\n",
              "      <td>1.0</td>\n",
              "      <td>1.0</td>\n",
              "    </tr>\n",
              "  </tbody>\n",
              "</table>\n",
              "</div>"
            ],
            "text/plain": [
              "         0.MED  1.BALT  2.CARIB  3.GRE  4.NIL  5.DAN\n",
              "0.MED      1.0     0.0      0.0    0.0    0.0    0.0\n",
              "1.BALT     1.0     1.0      0.0    0.0    1.0    0.0\n",
              "2.CARIB    0.0     0.0      1.0    0.0    0.0    0.0\n",
              "3.GRE      1.0     0.0      1.0    1.0    1.0    0.0\n",
              "4.NIL      1.0     0.0      0.0    0.0    1.0    0.0\n",
              "5.DAN      1.0     1.0      1.0    0.0    1.0    1.0"
            ]
          },
          "execution_count": 19,
          "metadata": {},
          "output_type": "execute_result"
        }
      ],
      "source": [
        "credibility_matrix = electre1.construct(performance_table)\n",
        "credibility_matrix.df"
      ]
    },
    {
      "cell_type": "markdown",
      "id": "cOPVxW6uaTHS",
      "metadata": {
        "id": "cOPVxW6uaTHS"
      },
      "source": [
        "\n",
        "The following code executes the exploitation method of ELECTRE-I to find the kernel.\n",
        "\n",
        "Q4. Draw the graph of credibility and find the kernel manually. Check the results with the ones given by the software.\n"
      ]
    },
    {
      "cell_type": "code",
      "execution_count": 20,
      "id": "HFCoSBioyOCb",
      "metadata": {
        "id": "HFCoSBioyOCb",
        "tags": []
      },
      "outputs": [
        {
          "data": {
            "text/plain": [
              "['3.GRE', '5.DAN']"
            ]
          },
          "execution_count": 20,
          "metadata": {},
          "output_type": "execute_result"
        }
      ],
      "source": [
        "kernel = electre1.exploit(credibility_matrix)\n",
        "kernel\n"
      ]
    }
  ],
  "metadata": {
    "colab": {
      "provenance": []
    },
    "kernelspec": {
      "display_name": "venv",
      "language": "python",
      "name": "python3"
    },
    "language_info": {
      "codemirror_mode": {
        "name": "ipython",
        "version": 3
      },
      "file_extension": ".py",
      "mimetype": "text/x-python",
      "name": "python",
      "nbconvert_exporter": "python",
      "pygments_lexer": "ipython3",
      "version": "3.12.8"
    }
  },
  "nbformat": 4,
  "nbformat_minor": 5
}
