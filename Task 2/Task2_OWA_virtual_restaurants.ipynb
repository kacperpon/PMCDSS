{
  "cells": [
    {
      "cell_type": "markdown",
      "id": "653c64ab-d557-4a47-a1a2-99f8580878c4",
      "metadata": {
        "id": "653c64ab-d557-4a47-a1a2-99f8580878c4"
      },
      "source": [
        "# MCDSS - MESIIA virtual group.    URV\n",
        "# **TASK 2. Aggregation operators for numerical data**\n",
        "\n",
        "The goal of this session is to practise with two simple methods of aggregation: WSM (Weighted Sum Model) that is equivalent to weighted average and afterwards the OWA operator (Ordered Weighted Average).\n",
        "The exercise will also enable you to the use of Python notebooks and with *mcda library* using Python programming tools.\n",
        "\n",
        "This exercise is part of the evaluation of the course.\n",
        "\n",
        "**You must write a report on this exercise and upload it at Moodle before the indicated deadline. You must submit a PDF file that includes the results of each task indicated below. In addition to the results, you must add clear and detailed explanations about the results, including the observations and conclusions at each question.**\n",
        "\n",
        "The decision problem we will consider is the selection of the best restaurant for a certain decision maker. We will consider different restaurants in Tarragona and 6 criteria."
      ]
    },
    {
      "cell_type": "markdown",
      "id": "99af8f5e-8194-4ac9-ae67-6ac76deb70c1",
      "metadata": {
        "id": "99af8f5e-8194-4ac9-ae67-6ac76deb70c1"
      },
      "source": [
        "The first thing we should do is installing the MCDA package. To do that, we use the `pip` command. Run the cell and test if everything went correctly. Take a look to the MCDA package documentation to know how to use it properly. [Documentation](https://py-mcda.readthedocs.io/en/stable/index.html) and [Examples](https://py-mcda.readthedocs.io/en/stable/examples.html)\n",
        "\n",
        "We will use version `0.4.0`."
      ]
    },
    {
      "cell_type": "code",
      "execution_count": null,
      "id": "e36cc898-6a89-4fad-a59f-09a2799d5027",
      "metadata": {
        "id": "e36cc898-6a89-4fad-a59f-09a2799d5027"
      },
      "outputs": [],
      "source": [
        "!pip install mcda==0.4.0"
      ]
    },
    {
      "cell_type": "markdown",
      "source": [],
      "metadata": {
        "id": "MQrDXshTLkqj"
      },
      "id": "MQrDXshTLkqj"
    },
    {
      "cell_type": "markdown",
      "id": "18511847-0c13-4aef-8ef3-2e8bd7255b7e",
      "metadata": {
        "tags": [],
        "id": "18511847-0c13-4aef-8ef3-2e8bd7255b7e"
      },
      "source": [
        "## Task 1: **Weighted Average or Weighted Sum**"
      ]
    },
    {
      "cell_type": "markdown",
      "id": "b6e5b1c0-9362-4a18-a044-e83f7dbd58fb",
      "metadata": {
        "id": "b6e5b1c0-9362-4a18-a044-e83f7dbd58fb"
      },
      "source": [
        "1. The input data of this MCDA methods is: a list of alternatives, a list of criteria and the weights of the criteria. In this model, weights represent the relative importance of each criterion. The sum of the weights must be 1 unit."
      ]
    },
    {
      "cell_type": "code",
      "execution_count": null,
      "id": "d3d0652b-6135-471b-9894-7d65f7213da5",
      "metadata": {
        "id": "d3d0652b-6135-471b-9894-7d65f7213da5"
      },
      "outputs": [],
      "source": [
        "import mcda\n",
        "import pandas as pd\n",
        "from mcda.core.performance_table import *\n",
        "from mcda.core.scales import *\n",
        "from mcda.plot import *\n",
        "\n",
        "alternatives = [\"Terrat\", \"RacoAbat\", \"Dominos\", \"Ancora\", \"Frida\", \"Barhaus\"]\n",
        "\n",
        "criteria = {\n",
        "    \"Food\": 0.3,\n",
        "    \"Personnel\": 0.3,\n",
        "    \"Atmosphere\": 0.1,\n",
        "    \"Category\": 0.1,\n",
        "    \"Location\": 0.1,\n",
        "    \"Terrace\": 0.1\n",
        "}\n",
        "criteria"
      ]
    },
    {
      "cell_type": "markdown",
      "id": "35cb3071-6382-4863-9e75-5f3c1f6634cc",
      "metadata": {
        "id": "35cb3071-6382-4863-9e75-5f3c1f6634cc"
      },
      "source": [
        "2. Here you have the performance table. Each row corresponds to one of the restaurants (alternatives) and each column contains the utility scores for the set of criteria. The range of the utility is 0..1 and all criteria are maximized."
      ]
    },
    {
      "cell_type": "code",
      "execution_count": null,
      "id": "5174a7dc-b76b-4eb2-8cf0-b7262ba0038b",
      "metadata": {
        "id": "5174a7dc-b76b-4eb2-8cf0-b7262ba0038b"
      },
      "outputs": [],
      "source": [
        "performance_table = PerformanceTable(\n",
        "    [[0.7, 0.9, 0.6, 0.9, 0.0, 0.4],\n",
        "     [0.5, 0.7, 0.6, 0.7, 0.2, 0.0],\n",
        "     [0.2, 0.3, 0.1, 0.2, 0.8, 0.0],\n",
        "     [0.9, 0.5, 0.4, 0.3, 1.0, 0.7],\n",
        "     [0.8, 0.7, 0.1, 0.5, 0.1, 0.4],\n",
        "     [0.9, 1.0, 0.3, 0.8, 0.2, 1.0]],\n",
        "    alternatives = alternatives,\n",
        "    criteria = criteria.keys())\n",
        "\n",
        "performance_table.df"
      ]
    },
    {
      "cell_type": "markdown",
      "id": "72f07974-b047-4864-96ed-229ceb07d010",
      "metadata": {
        "tags": [],
        "id": "72f07974-b047-4864-96ed-229ceb07d010"
      },
      "source": [
        "We may represent the alternatives and their scores by means of radar projections, which is a very visual representation."
      ]
    },
    {
      "cell_type": "code",
      "execution_count": null,
      "id": "0ec9453c-8cec-4254-ab01-624d188d8924",
      "metadata": {
        "tags": [],
        "id": "0ec9453c-8cec-4254-ab01-624d188d8924"
      },
      "outputs": [],
      "source": [
        "create_radar_projection(len(criteria), frame='polygon')\n",
        "\n",
        "fig = Figure(ncols=6, figsize=(20, 20))\n",
        "\n",
        "for alternative in alternatives:\n",
        "    values = performance_table.get_alternative_values(alternative)\n",
        "    ax = fig.create_add_axis(projection = radar_projection_name(len(criteria.values())))\n",
        "    ax.title = alternative\n",
        "    ax.add_plot(\n",
        "        RadarPlot(\n",
        "            criteria.values(),\n",
        "            values.data,\n",
        "            rlimits = [0,1]\n",
        "        )\n",
        "    )\n",
        "\n",
        "fig.draw()"
      ]
    },
    {
      "cell_type": "markdown",
      "id": "18f2657a-b2c0-4c32-8490-3c87b8a6e63b",
      "metadata": {
        "id": "18f2657a-b2c0-4c32-8490-3c87b8a6e63b"
      },
      "source": [
        "3. Now we want to apply the WSM aggregation. First, we will multiply the utilities and the corresponding weight."
      ]
    },
    {
      "cell_type": "code",
      "execution_count": null,
      "id": "4c73c491-7624-4d6b-b524-37a03a4db6bc",
      "metadata": {
        "tags": [],
        "id": "4c73c491-7624-4d6b-b524-37a03a4db6bc"
      },
      "outputs": [],
      "source": [
        "weighted_table = performance_table.apply_criteria_weights(criteria)\n",
        "\n",
        "weighted_table.df"
      ]
    },
    {
      "cell_type": "markdown",
      "id": "5e7e9413-6506-4d6f-a62d-edfbb9921bda",
      "metadata": {
        "id": "5e7e9413-6506-4d6f-a62d-edfbb9921bda"
      },
      "source": [
        "4. Secondly, we sum up all the alternatives to obtain an overall score on each one."
      ]
    },
    {
      "cell_type": "code",
      "execution_count": null,
      "id": "736c8628-4d29-4bbc-958f-9fc34565c097",
      "metadata": {
        "id": "736c8628-4d29-4bbc-958f-9fc34565c097"
      },
      "outputs": [],
      "source": [
        "utilitiesWM = weighted_table.sum(axis=1)\n",
        "utilitiesWM"
      ]
    },
    {
      "cell_type": "markdown",
      "id": "03e96023-9a87-4c85-9877-7856928f219d",
      "metadata": {
        "id": "03e96023-9a87-4c85-9877-7856928f219d"
      },
      "source": [
        "5. Once we have obtained the weighed table, let's plot it to see visually which alternative is the best according to the specified criteria weights."
      ]
    },
    {
      "cell_type": "code",
      "execution_count": null,
      "id": "c80e07eb-7af7-4407-8ac3-c1a3f70fff79",
      "metadata": {
        "id": "c80e07eb-7af7-4407-8ac3-c1a3f70fff79"
      },
      "outputs": [],
      "source": [
        "x = [*range(len(alternatives))]\n",
        "\n",
        "plot = BarPlot(\n",
        "    x, utilitiesWM, xticks=x,\n",
        "    xticklabels = alternatives, xticklabels_tilted = True\n",
        ")\n",
        "plot.draw()\n",
        "plot.axis.title = \"Alternatives utility score\"\n",
        "plot.axis.xlabel = \"Alternatives\"\n",
        "plot.axis.ylabel = \"Utility score\"\n",
        "plot.axis.figure.draw()"
      ]
    },
    {
      "cell_type": "markdown",
      "id": "3bc03d21-2d24-45b9-9b0a-34d8b8e5b42a",
      "metadata": {
        "id": "3bc03d21-2d24-45b9-9b0a-34d8b8e5b42a"
      },
      "source": [
        "*According to this plot, which alternative do you think is the best? Why?*"
      ]
    },
    {
      "cell_type": "markdown",
      "id": "b01822f0-e99c-4450-aec0-bc533596e2e2",
      "metadata": {
        "id": "b01822f0-e99c-4450-aec0-bc533596e2e2"
      },
      "source": [
        "*Notice that in this representation you can discard visually which are the worst alternatives.*"
      ]
    },
    {
      "cell_type": "markdown",
      "id": "e7720bfe-e684-4a7a-b19b-74cb83259208",
      "metadata": {
        "tags": [],
        "id": "e7720bfe-e684-4a7a-b19b-74cb83259208"
      },
      "source": [
        "## Task 2: **Add new alternatives**"
      ]
    },
    {
      "cell_type": "markdown",
      "id": "86fdcaf0-f1d4-49de-931a-5d682f0a03fc",
      "metadata": {
        "id": "86fdcaf0-f1d4-49de-931a-5d682f0a03fc"
      },
      "source": [
        "6. Modify the dataset including two new alternatives with the following characteristics:\n",
        "- A restaurant that has the worst evaluations in all the criteria except in Service.\n",
        "- A restaurant that has the worst evaluations in all the criteria except in Location.\n",
        "\n",
        "Apply again the WSM and study the results achieved for these new restaurants in comparison with the rest of restaurants. Take into account that you must modify also the *alternatives* array."
      ]
    },
    {
      "cell_type": "code",
      "execution_count": null,
      "id": "addebfa4-94b5-451e-a947-389754a147bc",
      "metadata": {
        "id": "addebfa4-94b5-451e-a947-389754a147bc"
      },
      "outputs": [],
      "source": [
        "# Alternatives names\n",
        "new_alternatives = []\n",
        "# Alternatives scores for each criterion\n",
        "alternatives_values = {\n",
        "    \"Food\": [],\n",
        "    \"Personnel\": [],\n",
        "    \"Atmosphere\": [],\n",
        "    \"Category\": [],\n",
        "    \"Location\": [],\n",
        "    \"Terrace\": []\n",
        "}"
      ]
    },
    {
      "cell_type": "markdown",
      "id": "a74eb0d9-a1a4-4656-8404-4127008a223b",
      "metadata": {
        "id": "a74eb0d9-a1a4-4656-8404-4127008a223b"
      },
      "source": [
        "Now, modify the performance table by adding the utilities as indicated. You can also represent them in radar (spider) graphics if you want."
      ]
    },
    {
      "cell_type": "code",
      "execution_count": null,
      "id": "02e1bc30-b70c-4eab-8fe8-8c562277bf9f",
      "metadata": {
        "id": "02e1bc30-b70c-4eab-8fe8-8c562277bf9f"
      },
      "outputs": [],
      "source": [
        "all_alternatives = alternatives + new_alternatives\n",
        "\n",
        "performance_table.df = pd.concat([\n",
        "    performance_table.df,\n",
        "    pd.DataFrame(alternatives_values, index = new_alternatives)],\n",
        "    axis = 0)\n",
        "performance_table.df"
      ]
    },
    {
      "cell_type": "markdown",
      "id": "9a8bea3c-5bce-4880-85c0-519f9244aa67",
      "metadata": {
        "id": "9a8bea3c-5bce-4880-85c0-519f9244aa67"
      },
      "source": [
        "Repeat the steps of the first part of the exercise to calculate the Weigthed Average and plot the results."
      ]
    },
    {
      "cell_type": "code",
      "execution_count": null,
      "id": "8517b785-8687-410f-a642-e98dcdc042c0",
      "metadata": {
        "id": "8517b785-8687-410f-a642-e98dcdc042c0"
      },
      "outputs": [],
      "source": []
    },
    {
      "cell_type": "code",
      "source": [],
      "metadata": {
        "id": "WBsrneS1M3ID"
      },
      "id": "WBsrneS1M3ID",
      "execution_count": null,
      "outputs": []
    },
    {
      "cell_type": "markdown",
      "id": "d153c05b-888f-4ca7-bcab-fb0865de5d5a",
      "metadata": {
        "tags": [],
        "id": "d153c05b-888f-4ca7-bcab-fb0865de5d5a"
      },
      "source": [
        "## Task 3: **arithmetic non-weighted average**"
      ]
    },
    {
      "cell_type": "markdown",
      "id": "71943c9e-4d72-4648-be8e-9d765ef30168",
      "metadata": {
        "id": "71943c9e-4d72-4648-be8e-9d765ef30168"
      },
      "source": [
        "In this part, you will execute a non-weighted **Arithmetic average**. Thus, it is necessary to modify the criteria weights by establishing the same weights for all criteria."
      ]
    },
    {
      "cell_type": "code",
      "execution_count": null,
      "id": "71baf86c-98b8-444c-abda-fa59da794e49",
      "metadata": {
        "id": "71baf86c-98b8-444c-abda-fa59da794e49"
      },
      "outputs": [],
      "source": []
    },
    {
      "cell_type": "markdown",
      "id": "573c0bc8-6217-4723-bfb7-da13f0d44625",
      "metadata": {
        "id": "573c0bc8-6217-4723-bfb7-da13f0d44625"
      },
      "source": [
        "Now, follow the same steps as in part one to calculate the Weigthed Average and plot the results."
      ]
    },
    {
      "cell_type": "code",
      "execution_count": null,
      "id": "64bf577b-1995-48b4-a069-f11058202ff2",
      "metadata": {
        "tags": [],
        "id": "64bf577b-1995-48b4-a069-f11058202ff2"
      },
      "outputs": [],
      "source": []
    },
    {
      "cell_type": "markdown",
      "id": "47bcfa34-de45-462e-be3f-8356372e6159",
      "metadata": {
        "tags": [],
        "id": "47bcfa34-de45-462e-be3f-8356372e6159"
      },
      "source": [
        "## Task 4: **OWA operator**\n",
        "\n",
        "Now we will study the Ordered Weighted Average, with the same case study.\n",
        "First we must import the functions about OWA from the package."
      ]
    },
    {
      "cell_type": "code",
      "execution_count": null,
      "id": "e728eb5c-b371-4727-8a19-682e888a065f",
      "metadata": {
        "tags": [],
        "id": "e728eb5c-b371-4727-8a19-682e888a065f"
      },
      "outputs": [],
      "source": [
        "from mcda.mavt.aggregators import *\n",
        "from mcda.core.scales import *"
      ]
    },
    {
      "cell_type": "markdown",
      "id": "59c63477-6974-498d-a135-a22b69852f85",
      "metadata": {
        "tags": [],
        "id": "59c63477-6974-498d-a135-a22b69852f85"
      },
      "source": [
        "\n",
        "7. Rember that OWA does not give weights to criteria, so we assume all criteria have the same importance. We have now to define a set of weights that establish the aggregation policy (from a conjunctive to a disjunctive model).\n",
        "The weights will be applied to the values after reordering them decreasingly.\n",
        "\n",
        "You have here a set of weights to use as a first example. Can you say which is the aggregation policy?"
      ]
    },
    {
      "cell_type": "code",
      "execution_count": null,
      "id": "722a3ec3-9acb-46d9-80c3-4c113b453824",
      "metadata": {
        "id": "722a3ec3-9acb-46d9-80c3-4c113b453824"
      },
      "outputs": [],
      "source": [
        "weightsOWA =  [0.1, 0.3, 0.6, 0.0, 0.0, 0.0]\n",
        "weightsOWA"
      ]
    },
    {
      "cell_type": "code",
      "execution_count": null,
      "id": "b96740ab-3d46-4221-bac1-e5644ec7ca29",
      "metadata": {
        "tags": [],
        "id": "b96740ab-3d46-4221-bac1-e5644ec7ca29"
      },
      "outputs": [],
      "source": [
        "owa = OWA(weightsOWA)\n",
        "utilitiesOWA = owa(performance_table)\n",
        "utilitiesOWA"
      ]
    },
    {
      "cell_type": "markdown",
      "id": "ffa3fd51-f74e-41b1-a672-1c3d6ae883f8",
      "metadata": {
        "tags": [],
        "id": "ffa3fd51-f74e-41b1-a672-1c3d6ae883f8"
      },
      "source": [
        "8. You should  also represent the scores obtained with the bar plot to facilitate the visualization."
      ]
    },
    {
      "cell_type": "code",
      "execution_count": null,
      "id": "ba6e0445-e220-4a32-bf4b-ff7990240154",
      "metadata": {
        "id": "ba6e0445-e220-4a32-bf4b-ff7990240154"
      },
      "outputs": [],
      "source": []
    },
    {
      "cell_type": "markdown",
      "id": "6da116bd-5860-420e-a45f-f53209f165af",
      "metadata": {
        "id": "6da116bd-5860-420e-a45f-f53209f165af"
      },
      "source": [
        "9. Now, we will compare different sets of OWA weights. First you must define a disjunctive policy (with a weight=0 for the 2 worst values). Apply it to the restaurants.\n",
        "\n",
        "10. Second, you must establish a conjunctive policy (simultaneity is required, most of the criteria must be fulfilled). Apply it to the restaurants.\n",
        "\n",
        "11. Compare the results of both aggregation policies. Compare also them with respect to the arithmetic average."
      ]
    },
    {
      "cell_type": "code",
      "source": [],
      "metadata": {
        "id": "I3qP5ct1LR2J"
      },
      "id": "I3qP5ct1LR2J",
      "execution_count": null,
      "outputs": []
    },
    {
      "cell_type": "code",
      "execution_count": null,
      "id": "1a210ddf-1c2f-4fb0-abdb-ed11fbc37e9b",
      "metadata": {
        "id": "1a210ddf-1c2f-4fb0-abdb-ed11fbc37e9b"
      },
      "outputs": [],
      "source": []
    },
    {
      "cell_type": "markdown",
      "id": "47c64f5a-dd8b-4d83-aadf-c0f986f23366",
      "metadata": {
        "id": "47c64f5a-dd8b-4d83-aadf-c0f986f23366"
      },
      "source": [
        "## Task 5 **Aggregation policies: descriptors of the OWA weights**\n",
        "\n",
        "There are different measures to characterise the vector of weights, such as: Balance, Divergence, Entropy and Orness.\n",
        "\n",
        "In this task, we will practise with the examples of sets of weights given in the following table:"
      ]
    },
    {
      "cell_type": "markdown",
      "id": "e3eb6a12-3dd1-4878-bad1-06ab78afa1d0",
      "metadata": {
        "id": "e3eb6a12-3dd1-4878-bad1-06ab78afa1d0"
      },
      "source": [
        "| Weights | Balance | Divergence | Entropy| Orness |\n",
        "| --- | --- | --- | --- | --- |\n",
        "| 0.0, 0.3, 0.4, 0.3, 0.0, 0.0 | - | - | - | - |\n",
        "| 0.0, 0.0, 0.0, 0.2, 0.3, 0.5 | - | - | - | - |\n",
        "| 1.0, 0.0, 0.0, 0.0, 0.0, 0.0 | - | - | - | - |\n",
        "| 0.1, 0.1, 0.3, 0.3, 0.1, 0.1 | - | - | - | - |\n",
        "| 0.1, 0.3, 0.6, 0.0, 0.0, 0.0 | - | - | - | - |"
      ]
    },
    {
      "cell_type": "markdown",
      "id": "a3945def-4a79-4df8-8bd7-b765abdd5845",
      "metadata": {
        "id": "a3945def-4a79-4df8-8bd7-b765abdd5845"
      },
      "source": [
        "12. The MCDA package only includes the orness and dispersion measures, for the moment. So, below you have the functions that implement the characterisation measures of OWA weights. The input of these functions is a vector of weights. So they must be executed for each row of the table."
      ]
    },
    {
      "cell_type": "markdown",
      "source": [],
      "metadata": {
        "id": "EHoLl3SkCHHC"
      },
      "id": "EHoLl3SkCHHC"
    },
    {
      "cell_type": "code",
      "execution_count": null,
      "id": "62a224c0-a0bf-4f49-b1e2-441380eba80a",
      "metadata": {
        "id": "62a224c0-a0bf-4f49-b1e2-441380eba80a"
      },
      "outputs": [],
      "source": [
        "examples_OWA_weights = [[0.0, 0.3, 0.4, 0.3, 0.0, 0.0], ...]\n",
        "\n",
        "for weights in examples_OWA_weights:\n",
        "    print(weights)\n",
        "    example_OWA = OWA(weights)\n",
        "\n",
        "    print(f\"Balance: {example_OWA.balance}\")\n",
        "    print(f\"Divergence: {example_OWA.divergence}\")\n",
        "    print(f\"Entropy: {example_OWA.dispersion}\")\n",
        "    print(f\"Orness: {example_OWA.orness}\\n\")\n"
      ]
    }
  ],
  "metadata": {
    "kernelspec": {
      "display_name": "Python 3 (ipykernel)",
      "language": "python",
      "name": "python3"
    },
    "language_info": {
      "codemirror_mode": {
        "name": "ipython",
        "version": 3
      },
      "file_extension": ".py",
      "mimetype": "text/x-python",
      "name": "python",
      "nbconvert_exporter": "python",
      "pygments_lexer": "ipython3",
      "version": "3.9.16"
    },
    "colab": {
      "provenance": []
    }
  },
  "nbformat": 4,
  "nbformat_minor": 5
}